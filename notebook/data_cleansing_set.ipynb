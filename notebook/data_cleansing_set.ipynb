{
 "cells": [
  {
   "cell_type": "code",
   "execution_count": null,
   "id": "36f0d841-63f9-4713-8f8f-2d0c18ac7f98",
   "metadata": {},
   "outputs": [],
   "source": [
    "import pandas as pd\n",
    "import numpy as np"
   ]
  },
  {
   "cell_type": "markdown",
   "id": "9e7be8c0-f0c0-4693-b984-84ffcc12e690",
   "metadata": {},
   "source": [
    "DATASET IMUNISASI"
   ]
  },
  {
   "cell_type": "code",
   "execution_count": 3,
   "id": "1f6d4d51-4373-4015-bafb-b7aaa1fcd2c6",
   "metadata": {},
   "outputs": [],
   "source": [
    "# read data untuk imunisasi\n",
    "imun_bcg =  pd.read_csv(\"data.jabarprov.go.id/dinkes-od_17443_jml_imunisasi_bcg_pada_bayi__jk_data.csv\")\n",
    "imun_dasar =  pd.read_csv(\"data.jabarprov.go.id/dinkes-od_17464_jml_imunisasi_dasar_lengkap_pada_bayi__jk_data.csv\")\n",
    "\n",
    "data_bayi = pd.read_csv(\"data.jabarprov.go.id/dinkes-od_15942_jml_kelahiran_bayi__status_kelahiran_jk_data.csv\")\n",
    "data_bayi_hidup = data_bayi[data_bayi[\"status_kelahiran\"] == \"HIDUP\"]\n",
    "data_bayi_mati = data_bayi[data_bayi[\"status_kelahiran\"] == \"MATI\"]"
   ]
  },
  {
   "cell_type": "code",
   "execution_count": null,
   "id": "7df67004-c574-4f42-99d1-80321af3c949",
   "metadata": {},
   "outputs": [],
   "source": [
    "# drop kolom yang tidak dibutuhkan\n",
    "drop_kolom = ['id','kode_provinsi','nama_provinsi','satuan']\n",
    "\n",
    "for kol in drop_kolom:\n",
    "    data_bayi_hidup.drop([kol], axis=1, inplace=True)\n",
    "    data_bayi_mati.drop([kol], axis=1, inplace=True)\n",
    "    imun_bcg.drop([kol], axis=1, inplace=True)\n",
    "    imun_dasar.drop([kol], axis=1, inplace=True)\n",
    "    "
   ]
  },
  {
   "cell_type": "code",
   "execution_count": 6,
   "id": "eff6557d-de97-41ca-b8cb-196348318416",
   "metadata": {},
   "outputs": [],
   "source": [
    "# menggabungkan data dan mengubah kolom tahun ke datetime\n",
    "data1 = pd.merge(data_bayi_hidup, imun_bcg, on=[\"kode_kabupaten_kota\",\"nama_kabupaten_kota\",\"tahun\",\"jenis_kelamin\"])\n",
    "data2 = pd.merge(data1, imun_dasar, \n",
    "                 on=[\"kode_kabupaten_kota\",\"nama_kabupaten_kota\",\"tahun\",\"jenis_kelamin\"], \n",
    "                 suffixes=[\"_bcg\",\"_dasar\"])\n",
    "\n",
    "data2.drop([\"status_kelahiran\"], axis=1, inplace=True)\n",
    "data4 = pd.merge(data2, data_bayi_mati, \n",
    "                 on=[\"kode_kabupaten_kota\",\"nama_kabupaten_kota\",\"tahun\",\"jenis_kelamin\"], \n",
    "                 suffixes=[\"_hidup\",\"_mati\"])\n",
    "\n",
    "data4.drop([\"status_kelahiran\"], axis=1, inplace=True)\n",
    "data4[\"tahun\"] = pd.to_datetime(data4[\"tahun\"], format = \"%Y\")"
   ]
  },
  {
   "cell_type": "code",
   "execution_count": null,
   "id": "6e93f648-38df-4578-8412-505d9d33a1b0",
   "metadata": {},
   "outputs": [],
   "source": [
    "# export dataset imunisasi\n",
    "data4.to_csv(\"imun_lahir_2017_2020.csv\")"
   ]
  },
  {
   "cell_type": "markdown",
   "id": "069d3bfb-c559-4ca1-84ee-14008fe75681",
   "metadata": {},
   "source": [
    "DATASET BBLR"
   ]
  },
  {
   "cell_type": "code",
   "execution_count": 12,
   "id": "62182e29-8a92-44d8-b8a5-b14e0408d455",
   "metadata": {},
   "outputs": [],
   "source": [
    "# read data untuk BBLR\n",
    "presentase_bayi_bblr = pd.read_csv(\"data.jabarprov.go.id/dinkes-od_17554_persentase_bayi_berat_badan_lahir_rendah_bblr__kabupat_data.csv\")"
   ]
  },
  {
   "cell_type": "code",
   "execution_count": 15,
   "id": "e606581d-194f-41b2-924a-d1115a696d9c",
   "metadata": {},
   "outputs": [],
   "source": [
    "# drop kolom\n",
    "for kol in drop_kolom:\n",
    "    presentase_bayi_bblr.drop([kol], axis=1, inplac\n",
    "\n",
    "# grouping data\n",
    "data_bayi_2 = data_bayi.groupby([\"kode_kabupaten_kota\",\"nama_kabupaten_kota\",\"tahun\"])[\"jumlah_kelahiran\"].sum().reset_index()\n",
    "data_bayi_2 = data_bayi_2[data_bayi_2[\"tahun\"] >= 2019]\n",
    "                              \n",
    "# menggabungkan data untuk dengan jumlah kelahiran\n",
    "data_bblr = pd.merge(presentase_bayi_bblr, data_bayi_2, how=\"outer\",\n",
    "                 on=[\"tahun\",\"kode_kabupaten_kota\",\"nama_kabupaten_kota\"]\n",
    "                )\n",
    "data_bblr.fillna(0, inplace=True)"
   ]
  },
  {
   "cell_type": "code",
   "execution_count": 20,
   "id": "d28278e3-f322-45a4-be62-6affcb241b81",
   "metadata": {},
   "outputs": [],
   "source": [
    "# membuat perhitungan kasar dengan menentukan jumlah bblr dari persentase dikali dengan total\n",
    "jumlah_bblr = []\n",
    "\n",
    "for i in range(len(data_bblr)):\n",
    "    jumlah_bblr.append(data_bblr.iloc[i, 2]*data_bblr.iloc[i, 4]/100)\n",
    "\n",
    "data_bblr[\"jumlah_bblr\"] = jumlah_bblr\n",
    "\n",
    "# mengubah kolom ke tipe data yang tepat untuk visualusasi\n",
    "data_bblr['jumlah_kelahiran'] = data_bblr['jumlah_kelahiran'].map(int)\n",
    "data_bblr['jumlah_bblr'] = data_bblr['jumlah_bblr'].map(int)\n",
    "data_bblr[\"tahun\"] = pd.to_datetime(data_bblr[\"tahun\"], format = \"%Y\")"
   ]
  },
  {
   "cell_type": "code",
   "execution_count": 132,
   "id": "6c6eb86b-07a6-4205-b59e-2cdecf7c1b80",
   "metadata": {},
   "outputs": [],
   "source": [
    "# export dataset jumlah bblr\n",
    "data_bblr.to_csv(\"berat_bayi_lahir_rendah_2019_2020.csv\")"
   ]
  },
  {
   "cell_type": "markdown",
   "id": "7d09a590-d948-4017-9d62-f07096df8685",
   "metadata": {},
   "source": [
    "DATASET IBU HAMIL"
   ]
  },
  {
   "cell_type": "code",
   "execution_count": 2,
   "id": "48f91679-f190-4adc-b23b-82e5d5936728",
   "metadata": {},
   "outputs": [],
   "source": [
    "# read data\n",
    "hamil_resti = pd.read_csv(\"data.jabarprov.go.id/dpmdes-idm_jml_ibu_hamil_mnglm_resiko_tinggi_kehamilan_resti__desa_kel_data.csv\")\n",
    "hamil_kronis = pd.read_csv(\"data.jabarprov.go.id/dpmdes-idm_jml_ibu_hamil_mnglm_kekurangan_energi_kronis_kek__desa_kelu_data.csv\")\n",
    "hamil = pd.read_csv(\"data.jabarprov.go.id/dinkes-od_17485_jumlah_ibu_hamil_berdasarkan_kabupatenkota_data.csv\")"
   ]
  },
  {
   "cell_type": "code",
   "execution_count": null,
   "id": "57b0c6c0-4eda-4b1d-8e6b-613c789a2cf7",
   "metadata": {},
   "outputs": [],
   "source": [
    "# grouping data\n",
    "hamil_kronis_kab = hamil_kronis.groupby([\"bps_kode_kabupaten_kota\",\"bps_nama_kabupaten_kota\",\"tahun\"])[\"jumlah_ibu_hamil_mengalami_kek\"].sum().reset_index()\n",
    "hamil_resti_kab = hamil_resti.groupby([\"bps_kode_kabupaten_kota\",\"bps_nama_kabupaten_kota\",\"tahun\"])[\"jumlah_ibu_hamil_resti\"].sum().reset_index()\n",
    "hamil = hamil.groupby([\"kode_kabupaten_kota\",\"nama_kabupaten_kota\",\"tahun\"])[\"jumlah_ibu_hamil\"].sum().reset_index()\n",
    "\n",
    "# mengambil data hamil untuk lebih dari 2017\n",
    "hamil = hamil[hamil[\"tahun\"] >= 2017]\n",
    "\n",
    "# menggabungkan data\n",
    "data_hamil_1 = pd.merge(hamil_kronis_kab, hamil_resti_kab, \n",
    "                 on=[\"bps_kode_kabupaten_kota\",\"bps_nama_kabupaten_kota\",\"tahun\"],\n",
    "                )\n",
    "data_hamil_1.rename(columns = {'bps_kode_kabupaten_kota':'kode_kabupaten_kota', 'bps_nama_kabupaten_kota':'nama_kabupaten_kota'}, inplace = True)\n",
    "\n",
    "data_hamil_2 = pd.merge(hamil, data_hamil_1, how=\"outer\",\n",
    "                 on=[\"tahun\",\"kode_kabupaten_kota\",\"nama_kabupaten_kota\"]\n",
    "                )\n",
    "\n",
    "# mengubah kolom ke tipe data yang tepat untuk visualisasi\n",
    "data4[\"jumlah_ibu_hamil\"] = data4[\"jumlah_ibu_hamil\"].map(int)\n",
    "data4[\"jumlah_ibu_hamil_mengalami_kek\"] = data4[\"jumlah_ibu_hamil_mengalami_kek\"].map(int)\n",
    "data4[\"jumlah_ibu_hamil_resti\"] = data4[\"jumlah_ibu_hamil_resti\"].map(int)\n",
    "data4['kode_kabupaten_kota'] = data4['kode_kabupaten_kota'].map(int)\n",
    "data_hamil_2[\"tahun\"] = pd.to_datetime(hamil[\"tahun\"], format = \"%Y\")\n"
   ]
  },
  {
   "cell_type": "code",
   "execution_count": null,
   "id": "2af7edf3-07ae-49b0-bdb3-d33f5fe83473",
   "metadata": {},
   "outputs": [],
   "source": [
    "# export dataset ke CSV\n",
    "data_hamil_2.to_csv(\"status_ibu_hamil_2017_2020.csv\")"
   ]
  }
 ],
 "metadata": {
  "kernelspec": {
   "display_name": "Python 3 (ipykernel)",
   "language": "python",
   "name": "python3"
  },
  "language_info": {
   "codemirror_mode": {
    "name": "ipython",
    "version": 3
   },
   "file_extension": ".py",
   "mimetype": "text/x-python",
   "name": "python",
   "nbconvert_exporter": "python",
   "pygments_lexer": "ipython3",
   "version": "3.9.7"
  }
 },
 "nbformat": 4,
 "nbformat_minor": 5
}
